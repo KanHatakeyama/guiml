{
 "cells": [
  {
   "cell_type": "code",
   "execution_count": 7,
   "metadata": {},
   "outputs": [],
   "source": [
    "NOTEBOOK_NAME=\"test1234\""
   ]
  },
  {
   "cell_type": "code",
   "execution_count": 12,
   "metadata": {},
   "outputs": [
    {
     "data": {
      "application/vnd.jupyter.widget-view+json": {
       "model_id": "04ef7cb7f36245278b849959ac0d0329",
       "version_major": 2,
       "version_minor": 0
      },
      "text/plain": [
       "Select(description='Select database file', options=('database/Molecule-2022-04-11.csv', 'database/rfr0618.csv'…"
      ]
     },
     "metadata": {},
     "output_type": "display_data"
    }
   ],
   "source": [
    "import glob\n",
    "import ipywidgets as widgets\n",
    "\n",
    "regex=\"database/*.csv\"\n",
    "file_path_list=glob.glob(regex)\n",
    "\n",
    "sel_w=widgets.Select(\n",
    "    options=file_path_list,\n",
    "    description='Select database file',\n",
    "    disabled=False\n",
    ")\n",
    "\n",
    "display(sel_w)"
   ]
  },
  {
   "cell_type": "code",
   "execution_count": 14,
   "metadata": {},
   "outputs": [
    {
     "data": {
      "text/plain": [
       "'database/rfr0618.csv'"
      ]
     },
     "execution_count": 14,
     "metadata": {},
     "output_type": "execute_result"
    }
   ],
   "source": [
    "sel_w.value"
   ]
  },
  {
   "cell_type": "code",
   "execution_count": null,
   "metadata": {},
   "outputs": [],
   "source": []
  }
 ],
 "metadata": {
  "kernelspec": {
   "display_name": "Python 3.7.9 ('mi')",
   "language": "python",
   "name": "python3"
  },
  "language_info": {
   "codemirror_mode": {
    "name": "ipython",
    "version": 3
   },
   "file_extension": ".py",
   "mimetype": "text/x-python",
   "name": "python",
   "nbconvert_exporter": "python",
   "pygments_lexer": "ipython3",
   "version": "3.7.9"
  },
  "orig_nbformat": 4,
  "vscode": {
   "interpreter": {
    "hash": "b611c5573b65b3622b7accb9c1f40b97765ff0445b89d16be92b11ca75db40a7"
   }
  }
 },
 "nbformat": 4,
 "nbformat_minor": 2
}
